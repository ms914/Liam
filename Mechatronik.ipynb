{
  "nbformat": 4,
  "nbformat_minor": 0,
  "metadata": {
    "colab": {
      "provenance": [],
      "authorship_tag": "ABX9TyPSgf1A8RMU2lrqM9w4T/jr",
      "include_colab_link": true
    },
    "kernelspec": {
      "name": "python3",
      "display_name": "Python 3"
    },
    "language_info": {
      "name": "python"
    }
  },
  "cells": [
    {
      "cell_type": "markdown",
      "metadata": {
        "id": "view-in-github",
        "colab_type": "text"
      },
      "source": [
        "<a href=\"https://colab.research.google.com/github/ms914/Liam/blob/main/Mechatronik.ipynb\" target=\"_parent\"><img src=\"https://colab.research.google.com/assets/colab-badge.svg\" alt=\"Open In Colab\"/></a>"
      ]
    },
    {
      "cell_type": "markdown",
      "source": [
        "Hydraulisches System\n",
        "Messbrücke (Dehnungsmessstreifen)\n",
        "Wirkungsplan\n",
        "Bewegungsgleichungen (Newton-Euler und Lagrange)\n",
        "Übertragungsfunktion (elektromechanisches System)\n",
        "Regler\n",
        "\n",
        "\n",
        "# Übertragungsfunktion\n",
        "Gleichstrommotor, Zustandsraummatrizen\n",
        "# PID-Regler\n",
        "# Magnetische Lagerung\n",
        "(instabil -> stabil; PD Regler; Linearisierung)\n",
        "\n",
        "\n",
        "\n"
      ],
      "metadata": {
        "id": "aB0r4PZyg6J4"
      }
    },
    {
      "cell_type": "code",
      "execution_count": null,
      "metadata": {
        "id": "I6MGcp8Ug1UW"
      },
      "outputs": [],
      "source": []
    }
  ]
}