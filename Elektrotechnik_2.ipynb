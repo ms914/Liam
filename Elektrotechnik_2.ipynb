{
  "nbformat": 4,
  "nbformat_minor": 0,
  "metadata": {
    "colab": {
      "provenance": [],
      "authorship_tag": "ABX9TyOV4QcngA2PAKPBhWOmBZk0",
      "include_colab_link": true
    },
    "kernelspec": {
      "name": "python3",
      "display_name": "Python 3"
    },
    "language_info": {
      "name": "python"
    }
  },
  "cells": [
    {
      "cell_type": "markdown",
      "metadata": {
        "id": "view-in-github",
        "colab_type": "text"
      },
      "source": [
        "<a href=\"https://colab.research.google.com/github/ms914/Liam/blob/main/Elektrotechnik_2.ipynb\" target=\"_parent\"><img src=\"https://colab.research.google.com/assets/colab-badge.svg\" alt=\"Open In Colab\"/></a>"
      ]
    },
    {
      "cell_type": "markdown",
      "source": [
        "mit Kennlinien arbeiten; Beschaltung von Diode, Transistor, OPV,\n",
        "Logikschaltungen\n",
        "\n",
        "# Dioden\n",
        "\n",
        "Vorwiderstand; Kennlinien für Dioden; MPP in Kennlinienfeld für PV-Diode\n",
        "\n",
        "# Z-Dioden\n",
        "Ströme:$I_{R_V}=\\frac{U_e-U_Z}{R_V}$;$I_L=\\frac{U_Z}{R_L}$;$I_Z=I_{RV}-I_L$\n",
        "\n",
        "Spannung Kennlinie: $U_Z = U_{Z_0}+r_ZI_Z$\n",
        "\n",
        "$U_Z = U_{Z_0}+r_Z(I_{RV}-I_L)$\n",
        "\n",
        "$U_Z = U_{Z_0}+r_Z(\\frac{U_e-U_Z}{R_V}-\\frac{U_Z}{R_L})$\n",
        "\n",
        "$U_Z$ freistellen\n",
        "\n",
        "${U_Z}=U_{Z0}+\\frac{r_Z}{R_V}(U_e-U_Z)-\\frac{r_Z}{R_L}U_Z$\n",
        "\n",
        "\n",
        "${U_Z}=U_{Z0}+\\frac{r_Z}{R_V}U_e-\\frac{r_Z}{R_V}U_Z-\\frac{r_Z}{R_L}U_Z$\n",
        "\n",
        "\n",
        "${U_Z+\\frac{r_Z}{R_V}U_Z+\\frac{r_Z}{R_L}U_Z}=U_{Z0}+\\frac{r_Z}{R_V}U_e$\n",
        "\n",
        "\n",
        "$({1+\\frac{r_Z}{R_V}+\\frac{r_Z}{R_L}})U_Z=U_{Z0}+\\frac{r_Z}{R_V}U_e$\n",
        "\n",
        "\n",
        "\n",
        "$\\boxed{U_Z=\\frac{U_{Z0}+\\frac{r_Z}{R_V}U_e}{1+\\frac{r_Z}{R_V}+\\frac{r_Z}{R_L}}}$\n",
        "\n",
        "$\\boxed{U_Z=\\frac{U_{Z0}+aU_e}{1+a+b}}$\n",
        "\n",
        "\n",
        "\n",
        "\n",
        "\n",
        "# Transistoren\n",
        "\n",
        "Emitterschaltung:\n",
        "Kennlinien für Basisdiode und Kollektor-Emitterstrecke; Widerstandsgeraden für $R_C, R_E$ und $R_B$; Spannungsteiler mit Diode;\n",
        "\n",
        "Konstantstromquelle: (Emitterfolger)\n",
        "\n",
        "Darlington:\n",
        "\n",
        "FETs:\n",
        "\n",
        "# Operationsverstärker\n",
        "Knoten: $\\sum_i{I_i}=0$; $I_1+I_2+I_3=0$; $I_3=0$; $I_1=-I_2$\n",
        "\n",
        "$\\frac{V_1-V_-}{R_1}=-\\frac{V_{out}-V_-}{R_2}$\n",
        "\n",
        "\n",
        "\n",
        "Nach $V_{out}$ umstellen, $V_-$ zusammenfassen:\n",
        "\n",
        "$V_{out}=\\frac{R_2V_1-(R_2+R_1)V_-}{-R_1}$\n",
        "\n",
        "$V_{out}=-\\frac{R_2}{R_1}V_1+\\frac{R_1+R_2}{R_1}V_-$\n",
        "\n",
        "$V_{out}=-\\frac{R_2}{R_1}V_1+(1+\\frac{R_2}{R_1})V_-$\n",
        "\n",
        "Fusspunkt einsetzen (Spannungsteiler) $V_+=V_-$; $V_-=\\frac{R_4}{R_3+R_4}V_2$\n",
        "\n",
        "$V_{out}=-\\frac{R_2}{R_1}V_1+(1+\\frac{R_2}{R_1})\\frac{R_4}{R_3+R_4}V_2$\n",
        "\n",
        "Wenn alle Widerstände gleich sind:\n",
        "\n",
        "$\\boxed{V_{out}=-\\frac{R_2}{R_1}V_1+\\frac{R_1+R_2}{R_1}\\frac{R_4}{R_3+R_4}V_2}$\n",
        "\n",
        "$\\boxed{V_{out}=-\\frac{R_2}{R_1}V_1+V_2}$\n",
        "\n",
        "Anwendungen: Gegenkopplung; Differentialgleichungen\n",
        "\n",
        "# Digitaltechnik\n",
        "\n",
        "KV Diagramme\n"
      ],
      "metadata": {
        "id": "AqJAaSuAKYwA"
      }
    },
    {
      "cell_type": "code",
      "execution_count": null,
      "metadata": {
        "id": "iXGRwrg4KXKs"
      },
      "outputs": [],
      "source": []
    }
  ]
}